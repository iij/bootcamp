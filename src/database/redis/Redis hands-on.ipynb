{
 "cells": [
  {
   "cell_type": "markdown",
   "metadata": {},
   "source": [
    "# Redis hands-on 資料\n",
    "\n",
    "https://gh.iiji.jp/iij-bootcamp/iij-bootcamp/tree/master/database/redis/"
   ]
  },
  {
   "cell_type": "markdown",
   "metadata": {},
   "source": [
    "## 環境設定"
   ]
  },
  {
   "cell_type": "code",
   "execution_count": 1,
   "metadata": {},
   "outputs": [
    {
     "name": "stdout",
     "output_type": "stream",
     "text": [
      "Collecting redis\n",
      "\u001b[?25l  Downloading https://files.pythonhosted.org/packages/ac/a7/cff10cc5f1180834a3ed564d148fb4329c989cbb1f2e196fc9a10fa07072/redis-3.2.1-py2.py3-none-any.whl (65kB)\n",
      "\u001b[K     |████████████████████████████████| 71kB 2.0MB/s eta 0:00:01\n",
      "\u001b[?25hInstalling collected packages: redis\n",
      "Successfully installed redis-3.2.1\n"
     ]
    }
   ],
   "source": [
    "# redis-py パッケージインストール\n",
    "!pip install redis"
   ]
  },
  {
   "cell_type": "code",
   "execution_count": 2,
   "metadata": {},
   "outputs": [
    {
     "name": "stdout",
     "output_type": "stream",
     "text": [
      "REDIS_ENV_GOSU_VERSION=1.10\r\n",
      "REDIS_ENV_REDIS_DOWNLOAD_SHA=2139009799d21d8ff94fc40b7f36ac46699b9e1254086299f8d3b223ca54a375\r\n",
      "REDIS_ENV_REDIS_DOWNLOAD_URL=http://download.redis.io/releases/redis-5.0.5.tar.gz\r\n",
      "REDIS_ENV_REDIS_VERSION=5.0.5\r\n",
      "REDIS_NAME=/stoic_germain/redis\r\n",
      "REDIS_PORT_6379_TCP_ADDR=172.17.0.2\r\n",
      "REDIS_PORT_6379_TCP_PORT=6379\r\n",
      "REDIS_PORT_6379_TCP_PROTO=tcp\r\n",
      "REDIS_PORT_6379_TCP=tcp://172.17.0.2:6379\r\n",
      "REDIS_PORT=tcp://172.17.0.2:6379\r\n"
     ]
    }
   ],
   "source": [
    "# docker --link で渡ってきている環境変数を調べる\n",
    "!env | grep 'REDIS_' | sort"
   ]
  },
  {
   "cell_type": "code",
   "execution_count": 3,
   "metadata": {},
   "outputs": [],
   "source": [
    "# 全体の基本設定\n",
    "import sys\n",
    "import os\n",
    "import redis\n",
    "\n",
    "HOST = os.environ['REDIS_PORT_6379_TCP_ADDR']\n",
    "PORT = os.environ['REDIS_PORT_6379_TCP_PORT']\n",
    "DB0 = 10\n",
    "DB1 = 11\n",
    "DB2 = 12"
   ]
  },
  {
   "cell_type": "markdown",
   "metadata": {},
   "source": [
    "## 実際に Redis を使ってみる"
   ]
  },
  {
   "cell_type": "markdown",
   "metadata": {},
   "source": [
    "### Redis に接続"
   ]
  },
  {
   "cell_type": "code",
   "execution_count": 4,
   "metadata": {},
   "outputs": [],
   "source": [
    "r = redis.Redis(host=HOST, port=PORT, db=DB1, decode_responses=True)"
   ]
  },
  {
   "cell_type": "markdown",
   "metadata": {},
   "source": [
    "### /etc/passwd の内容を Redis に入れてみる"
   ]
  },
  {
   "cell_type": "code",
   "execution_count": 5,
   "metadata": {},
   "outputs": [],
   "source": [
    "# ファイルの内容を確認する\n",
    "#!cat /etc/passwd"
   ]
  },
  {
   "cell_type": "code",
   "execution_count": 6,
   "metadata": {},
   "outputs": [],
   "source": [
    "from pathlib import Path\n",
    "\n",
    "file = Path('/etc/passwd')\n",
    "with file.open() as f:\n",
    "    for line in f:\n",
    "        s = line.strip().split(':')\n",
    "        r.hmset(s[0], { 'user': s[0], 'passwd': s[1], 'uid': s[2], 'gid': s[3], 'desc': s[4], 'home': s[5], 'shell': s[6] })"
   ]
  },
  {
   "cell_type": "code",
   "execution_count": 7,
   "metadata": {},
   "outputs": [
    {
     "data": {
      "text/plain": [
       "{'user': 'gnats',\n",
       " 'passwd': 'x',\n",
       " 'uid': '41',\n",
       " 'gid': '41',\n",
       " 'desc': 'Gnats Bug-Reporting System (admin)',\n",
       " 'home': '/var/lib/gnats',\n",
       " 'shell': '/usr/sbin/nologin'}"
      ]
     },
     "execution_count": 7,
     "metadata": {},
     "output_type": "execute_result"
    }
   ],
   "source": [
    "r.hgetall('gnats')"
   ]
  },
  {
   "cell_type": "code",
   "execution_count": 8,
   "metadata": {},
   "outputs": [
    {
     "data": {
      "text/plain": [
       "['list',\n",
       " 'man',\n",
       " 'lp',\n",
       " 'games',\n",
       " 'www-data',\n",
       " 'sys',\n",
       " 'proxy',\n",
       " 'sync',\n",
       " 'news',\n",
       " 'irc',\n",
       " 'root',\n",
       " 'uucp',\n",
       " 'nobody',\n",
       " 'daemon',\n",
       " 'backup',\n",
       " '_apt',\n",
       " 'gnats',\n",
       " 'mail',\n",
       " 'jovyan',\n",
       " 'bin']"
      ]
     },
     "execution_count": 8,
     "metadata": {},
     "output_type": "execute_result"
    }
   ],
   "source": [
    "r.keys()"
   ]
  },
  {
   "cell_type": "markdown",
   "metadata": {},
   "source": [
    "### Message Queue を作ってみる"
   ]
  },
  {
   "cell_type": "code",
   "execution_count": 9,
   "metadata": {},
   "outputs": [
    {
     "name": "stdout",
     "output_type": "stream",
     "text": [
      "Fri Jul 12 05:04:49 2019\n",
      "Fri Jul 12 05:04:50 2019\n",
      "Fri Jul 12 05:04:51 2019\n",
      "Fri Jul 12 05:04:52 2019\n"
     ]
    },
    {
     "data": {
      "text/plain": [
       "['test2 Fri Jul 12 05:04:55 2019',\n",
       " 'test1 Fri Jul 12 05:04:54 2019',\n",
       " 'Fri Jul 12 05:04:53 2019']"
      ]
     },
     "execution_count": 9,
     "metadata": {},
     "output_type": "execute_result"
    }
   ],
   "source": [
    "import time\n",
    "\n",
    "QNAME = 'mqueue'\n",
    "\n",
    "#r.unlink(QNAME)  # キューをクリアする\n",
    "\n",
    "for i in range(5):\n",
    "    r.lpush(QNAME, time.asctime())\n",
    "    time.sleep(1)\n",
    "\n",
    "r.lrange(QNAME, 0, -1)\n",
    "\n",
    "print(r.rpop(QNAME))\n",
    "print(r.rpop(QNAME))\n",
    "r.lpush(QNAME, 'test1 ' + time.asctime())\n",
    "time.sleep(1)\n",
    "\n",
    "print(r.rpop(QNAME))\n",
    "print(r.rpop(QNAME))\n",
    "r.lpush(QNAME, 'test2 ' + time.asctime())\n",
    "\n",
    "r.lrange(QNAME, 0, -1)\n"
   ]
  },
  {
   "cell_type": "markdown",
   "metadata": {},
   "source": [
    "### expire の実験をする"
   ]
  },
  {
   "cell_type": "code",
   "execution_count": 10,
   "metadata": {},
   "outputs": [
    {
     "name": "stdout",
     "output_type": "stream",
     "text": [
      "output logs...0 1 2 3 4 5 6 7 8 9 \n",
      "\n",
      "checking...\n",
      "['Fri Jul 12 05:05:20 2019', 'Fri Jul 12 05:05:19 2019', 'Fri Jul 12 05:05:11 2019', 'Fri Jul 12 05:05:12 2019', 'Fri Jul 12 05:05:15 2019', 'Fri Jul 12 05:05:16 2019', 'Fri Jul 12 05:05:17 2019', 'Fri Jul 12 05:05:18 2019', 'Fri Jul 12 05:05:14 2019', 'Fri Jul 12 05:05:13 2019']\n",
      "['Fri Jul 12 05:05:20 2019', 'Fri Jul 12 05:05:19 2019', 'Fri Jul 12 05:05:11 2019', 'Fri Jul 12 05:05:12 2019', 'Fri Jul 12 05:05:15 2019', 'Fri Jul 12 05:05:16 2019', 'Fri Jul 12 05:05:17 2019', 'Fri Jul 12 05:05:18 2019', 'Fri Jul 12 05:05:14 2019', 'Fri Jul 12 05:05:13 2019']\n",
      "['Fri Jul 12 05:05:20 2019', 'Fri Jul 12 05:05:19 2019', 'Fri Jul 12 05:05:11 2019', 'Fri Jul 12 05:05:12 2019', 'Fri Jul 12 05:05:15 2019', 'Fri Jul 12 05:05:16 2019', 'Fri Jul 12 05:05:17 2019', 'Fri Jul 12 05:05:18 2019', 'Fri Jul 12 05:05:14 2019', 'Fri Jul 12 05:05:13 2019']\n",
      "['Fri Jul 12 05:05:20 2019', 'Fri Jul 12 05:05:19 2019', 'Fri Jul 12 05:05:11 2019', 'Fri Jul 12 05:05:12 2019', 'Fri Jul 12 05:05:15 2019', 'Fri Jul 12 05:05:16 2019', 'Fri Jul 12 05:05:17 2019', 'Fri Jul 12 05:05:18 2019', 'Fri Jul 12 05:05:14 2019', 'Fri Jul 12 05:05:13 2019']\n",
      "['Fri Jul 12 05:05:20 2019', 'Fri Jul 12 05:05:19 2019', 'Fri Jul 12 05:05:12 2019', 'Fri Jul 12 05:05:15 2019', 'Fri Jul 12 05:05:16 2019', 'Fri Jul 12 05:05:17 2019', 'Fri Jul 12 05:05:18 2019', 'Fri Jul 12 05:05:14 2019', 'Fri Jul 12 05:05:13 2019']\n",
      "['Fri Jul 12 05:05:20 2019', 'Fri Jul 12 05:05:19 2019', 'Fri Jul 12 05:05:15 2019', 'Fri Jul 12 05:05:16 2019', 'Fri Jul 12 05:05:17 2019', 'Fri Jul 12 05:05:18 2019', 'Fri Jul 12 05:05:14 2019', 'Fri Jul 12 05:05:13 2019']\n",
      "['Fri Jul 12 05:05:20 2019', 'Fri Jul 12 05:05:19 2019', 'Fri Jul 12 05:05:15 2019', 'Fri Jul 12 05:05:16 2019', 'Fri Jul 12 05:05:17 2019', 'Fri Jul 12 05:05:18 2019', 'Fri Jul 12 05:05:14 2019']\n",
      "['Fri Jul 12 05:05:20 2019', 'Fri Jul 12 05:05:19 2019', 'Fri Jul 12 05:05:15 2019', 'Fri Jul 12 05:05:16 2019', 'Fri Jul 12 05:05:17 2019', 'Fri Jul 12 05:05:18 2019']\n",
      "['Fri Jul 12 05:05:20 2019', 'Fri Jul 12 05:05:19 2019', 'Fri Jul 12 05:05:16 2019', 'Fri Jul 12 05:05:17 2019', 'Fri Jul 12 05:05:18 2019']\n",
      "['Fri Jul 12 05:05:20 2019', 'Fri Jul 12 05:05:19 2019', 'Fri Jul 12 05:05:17 2019', 'Fri Jul 12 05:05:18 2019']\n",
      "['Fri Jul 12 05:05:20 2019', 'Fri Jul 12 05:05:19 2019', 'Fri Jul 12 05:05:18 2019']\n",
      "['Fri Jul 12 05:05:20 2019', 'Fri Jul 12 05:05:19 2019']\n",
      "['Fri Jul 12 05:05:20 2019']\n",
      "[]\n"
     ]
    }
   ],
   "source": [
    "import time\n",
    "\n",
    "r1 = redis.Redis(host=HOST, port=PORT, db=DB2, decode_responses=True)\n",
    "r1.flushall()\n",
    "\n",
    "# 1 秒おきに 10 件のログを、expire 15秒で書き出す\n",
    "print('output logs...', end='')\n",
    "for i in range(10):\n",
    "    r.set(time.asctime(), 'log %02d' % i, ex=15)\n",
    "    print(i, end=' ')\n",
    "    time.sleep(1)\n",
    "\n",
    "# 1 秒おきに DB 内容を表示して、expire される様子を確かめる\n",
    "print(\"\\n\\nchecking...\")\n",
    "time.sleep(1)\n",
    "for i in range(14):\n",
    "    print(r.keys('*'))\n",
    "    time.sleep(1)"
   ]
  },
  {
   "cell_type": "markdown",
   "metadata": {},
   "source": [
    "## おまけ"
   ]
  },
  {
   "cell_type": "code",
   "execution_count": null,
   "metadata": {},
   "outputs": [],
   "source": [
    "# DB を全クリアしたい場合は下記を実行する\n",
    "#r.flushall()"
   ]
  },
  {
   "cell_type": "code",
   "execution_count": null,
   "metadata": {},
   "outputs": [],
   "source": []
  }
 ],
 "metadata": {
  "kernelspec": {
   "display_name": "Python 3",
   "language": "python",
   "name": "python3"
  },
  "language_info": {
   "codemirror_mode": {
    "name": "ipython",
    "version": 3
   },
   "file_extension": ".py",
   "mimetype": "text/x-python",
   "name": "python",
   "nbconvert_exporter": "python",
   "pygments_lexer": "ipython3",
   "version": "3.7.3"
  }
 },
 "nbformat": 4,
 "nbformat_minor": 2
}
